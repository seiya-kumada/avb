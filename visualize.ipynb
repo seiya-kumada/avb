{
 "cells": [
  {
   "cell_type": "code",
   "execution_count": 1,
   "metadata": {},
   "outputs": [],
   "source": [
    "import numpy as np\n",
    "import os\n",
    "import matplotlib.pyplot as plt\n",
    "%matplotlib inline"
   ]
  },
  {
   "cell_type": "markdown",
   "metadata": {},
   "source": [
    "# display leaning curve"
   ]
  },
  {
   "cell_type": "code",
   "execution_count": 2,
   "metadata": {},
   "outputs": [],
   "source": [
    "DIR_PATH = './result'\n",
    "\n",
    "epoch_theta_losses = np.load(os.path.join(DIR_PATH, 'epoch_theta_losses.npy'))\n",
    "epoch_phi_losses = np.load(os.path.join(DIR_PATH, 'epoch_phi_losses.npy'))\n",
    "epoch_psi_losses = np.load(os.path.join(DIR_PATH, 'epoch_psi_losses.npy'))"
   ]
  },
  {
   "cell_type": "code",
   "execution_count": 3,
   "metadata": {},
   "outputs": [
    {
     "data": {
      "image/png": "[encoded data removed]",
      "text/plain": [
       "<matplotlib.figure.Figure at 0x10e535a20>"
      ]
     },
     "metadata": {},
     "output_type": "display_data"
    }
   ],
   "source": [
    "plt.plot(epoch_theta_losses, label='theta')\n",
    "plt.plot(epoch_phi_losses, label='phi')\n",
    "plt.plot(epoch_psi_losses, label='psi')\n",
    "plt.legend(loc='best')\n",
    "plt.show()"
   ]
  },
  {
   "cell_type": "markdown",
   "metadata": {},
   "source": [
    "# display latent variables"
   ]
  },
  {
   "cell_type": "code",
   "execution_count": 4,
   "metadata": {},
   "outputs": [
    {
     "name": "stdout",
     "output_type": "stream",
     "text": [
      "(5000, 2)\n"
     ]
    }
   ],
   "source": [
    "z0s = np.load(os.path.join(DIR_PATH, 'z0s.npy'))\n",
    "z1s = np.load(os.path.join(DIR_PATH, 'z1s.npy'))\n",
    "z2s = np.load(os.path.join(DIR_PATH, 'z2s.npy'))\n",
    "z3s = np.load(os.path.join(DIR_PATH, 'z3s.npy'))\n",
    "print(z3s.shape)"
   ]
  },
  {
   "cell_type": "code",
   "execution_count": 5,
   "metadata": {},
   "outputs": [
    {
     "data": {
      "image/png": "[encoded data removed]",
      "text/plain": [
       "<matplotlib.figure.Figure at 0x113861518>"
      ]
     },
     "metadata": {},
     "output_type": "display_data"
    }
   ],
   "source": [
    "plt.figure(figsize=(10, 10))\n",
    "plt.scatter(z0s[:, 0], z0s[:, 1], label='0', marker='.')\n",
    "plt.scatter(z1s[:, 0], z1s[:, 1], label='1', marker='.')\n",
    "plt.scatter(z2s[:, 0], z2s[:, 1], label='2', marker='.')\n",
    "plt.scatter(z3s[:, 0], z3s[:, 1], label='3', marker='.')\n",
    "\n",
    "plt.axis('equal')\n",
    "plt.grid(True)\n",
    "plt.legend(loc='best')\n",
    "plt.show()"
   ]
  },
  {
   "cell_type": "markdown",
   "metadata": {},
   "source": [
    "# display reconstructed values"
   ]
  },
  {
   "cell_type": "code",
   "execution_count": 6,
   "metadata": {},
   "outputs": [
    {
     "name": "stdout",
     "output_type": "stream",
     "text": [
      "(5000, 4)\n"
     ]
    }
   ],
   "source": [
    "x0s = np.load(os.path.join(DIR_PATH, 'x0s.npy'))\n",
    "x1s = np.load(os.path.join(DIR_PATH, 'x1s.npy'))\n",
    "x2s = np.load(os.path.join(DIR_PATH, 'x2s.npy'))\n",
    "x3s = np.load(os.path.join(DIR_PATH, 'x3s.npy'))\n",
    "print(x0s.shape)"
   ]
  },
  {
   "cell_type": "code",
   "execution_count": 7,
   "metadata": {},
   "outputs": [
    {
     "data": {
      "text/plain": [
       "array([[  6.58631325e-06,   9.99996960e-01,   1.72853470e-06,\n",
       "          0.00000000e+00],\n",
       "       [  6.64591789e-06,   9.99997258e-01,   1.81794167e-06,\n",
       "          0.00000000e+00],\n",
       "       [  6.70552254e-06,   9.99997079e-01,   1.54972076e-06,\n",
       "          0.00000000e+00],\n",
       "       ..., \n",
       "       [  6.85453415e-06,   9.99997020e-01,   1.37090683e-06,\n",
       "          0.00000000e+00],\n",
       "       [  6.70552254e-06,   9.99996960e-01,   1.51991844e-06,\n",
       "          0.00000000e+00],\n",
       "       [  6.76512718e-06,   9.99997020e-01,   1.49011612e-06,\n",
       "          0.00000000e+00]], dtype=float32)"
      ]
     },
     "execution_count": 7,
     "metadata": {},
     "output_type": "execute_result"
    }
   ],
   "source": [
    "x1s"
   ]
  },
  {
   "cell_type": "code",
   "execution_count": null,
   "metadata": {
    "collapsed": true
   },
   "outputs": [],
   "source": []
  }
 ],
 "metadata": {
  "kernelspec": {
   "display_name": "Python 3",
   "language": "python",
   "name": "python3"
  },
  "language_info": {
   "codemirror_mode": {
    "name": "ipython",
    "version": 3
   },
   "file_extension": ".py",
   "mimetype": "text/x-python",
   "name": "python",
   "nbconvert_exporter": "python",
   "pygments_lexer": "ipython3",
   "version": "3.6.2"
  }
 },
 "nbformat": 4,
 "nbformat_minor": 2
}
